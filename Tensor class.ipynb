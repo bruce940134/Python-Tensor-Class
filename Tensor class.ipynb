{
 "cells": [
  {
   "cell_type": "code",
   "execution_count": 64,
   "id": "4922f58a",
   "metadata": {},
   "outputs": [],
   "source": [
    "class Tensor():\n",
    "    \n",
    "    def __init__(self, data, shape):\n",
    "        self.data = data\n",
    "        self.shape = shape\n",
    "        \n",
    "    def reshape(self):\n",
    "        \n",
    "        data = self.data\n",
    "        shape = self.shape\n",
    "        \n",
    "        if type(shape) != list:\n",
    "            ##If shape isn't a list\n",
    "            return \"Parameter shape is not a list!\"\n",
    "        \n",
    "        elif type(data) != list:\n",
    "            ##If data isn;t a list\n",
    "            return \"Paramter data is not a list!\"\n",
    "        \n",
    "        else:\n",
    "            tensor = [];\n",
    "            if len(shape) == 0:\n",
    "                return tensor\n",
    "            else:\n",
    "                \n",
    "                ##Get total elements, pad zeros if missing and cut off if too long\n",
    "                total_elements = 1\n",
    "                \n",
    "                for i in range(len(shape)):\n",
    "                    total_elements = total_elements * shape[i]\n",
    "                \n",
    "                if len(data) < total_elements:\n",
    "                    missing = total_elements - len(data)\n",
    "                    for i in range(missing):\n",
    "                        data.append(0)\n",
    "                \n",
    "                if len(data) > total_elements:\n",
    "                    data = data[:total_elements]\n",
    "                \n",
    "                ##Start grouping data into lists\n",
    "                shape.reverse()\n",
    "                \n",
    "\n",
    "                ##Go through each dimension (numOfElements = number of elements in a single list)\n",
    "                for numOfElements in shape:\n",
    "                    \n",
    "                    newTensor = []\n",
    "                    \n",
    "                    ##Iterate through the \"elements\" of the data\n",
    "                    while len(data) != 0:\n",
    "                        \n",
    "                        ##Create new element (a list of previous elements)\n",
    "                        newEl = []\n",
    "                        \n",
    "                        while len(newEl) != numOfElements:\n",
    "                            newEl.append(data[0])\n",
    "                            data.remove(data[0])\n",
    "                        \n",
    "                        ##Add new element to the new Tensor\n",
    "                        newTensor.append(newEl)\n",
    "                    \n",
    "                    ##Update the data's dimension\n",
    "                    data = newTensor\n",
    "                \n",
    "                return newTensor[0] \n"
   ]
  },
  {
   "cell_type": "code",
   "execution_count": 65,
   "id": "298008d0",
   "metadata": {},
   "outputs": [
    {
     "name": "stdout",
     "output_type": "stream",
     "text": [
      "[[[0, 1], [2, 3], [4, 5]], [[0.1, 0.2], [-3, 0], [0, 0]]]\n"
     ]
    }
   ],
   "source": [
    "data0 = [0, 1, 2, 3, 4, 5, 0.1, 0.2, -3]\n",
    "shape0 = [2, 3, 2]\n",
    "tensor0 = Tensor(data0, shape0)\n",
    "print(tensor0.reshape())"
   ]
  },
  {
   "cell_type": "code",
   "execution_count": 66,
   "id": "7f1a638d",
   "metadata": {},
   "outputs": [
    {
     "name": "stdout",
     "output_type": "stream",
     "text": [
      "[[0, 1], [2, 3], [4, 5], [0.1, 0.2], [-3, -2]]\n"
     ]
    }
   ],
   "source": [
    "data1 = [0, 1, 2, 3, 4, 5, 0.1, 0.2, -3, -2, -1, 3, 2, 1]\n",
    "shape1 = [5, 2]\n",
    "tensor1 = Tensor(data1, shape1)\n",
    "print(tensor1.reshape())"
   ]
  },
  {
   "cell_type": "code",
   "execution_count": 67,
   "id": "abd993ba",
   "metadata": {},
   "outputs": [
    {
     "name": "stdout",
     "output_type": "stream",
     "text": [
      "[]\n"
     ]
    }
   ],
   "source": [
    "data2 = [0, 1, 2, 3, 4, 5, 0.1, 0.2, -3, -2, -1, 3, 2, 1]\n",
    "shape2 = []\n",
    "tensor2 = Tensor(data2, shape2)\n",
    "print(tensor2.reshape())"
   ]
  },
  {
   "cell_type": "code",
   "execution_count": 30,
   "id": "2d25570a",
   "metadata": {},
   "outputs": [
    {
     "data": {
      "text/plain": [
       "[0, 1, 2, 3]"
      ]
     },
     "execution_count": 30,
     "metadata": {},
     "output_type": "execute_result"
    }
   ],
   "source": []
  },
  {
   "cell_type": "code",
   "execution_count": 31,
   "id": "8a5c1fa7",
   "metadata": {},
   "outputs": [
    {
     "data": {
      "text/plain": [
       "[]"
      ]
     },
     "execution_count": 31,
     "metadata": {},
     "output_type": "execute_result"
    }
   ],
   "source": []
  },
  {
   "cell_type": "code",
   "execution_count": null,
   "id": "d6aaefca",
   "metadata": {},
   "outputs": [],
   "source": []
  }
 ],
 "metadata": {
  "kernelspec": {
   "display_name": "Python 3",
   "language": "python",
   "name": "python3"
  },
  "language_info": {
   "codemirror_mode": {
    "name": "ipython",
    "version": 3
   },
   "file_extension": ".py",
   "mimetype": "text/x-python",
   "name": "python",
   "nbconvert_exporter": "python",
   "pygments_lexer": "ipython3",
   "version": "3.8.5"
  }
 },
 "nbformat": 4,
 "nbformat_minor": 5
}
